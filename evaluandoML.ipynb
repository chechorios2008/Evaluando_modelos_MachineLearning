{
 "cells": [
  {
   "cell_type": "markdown",
   "metadata": {},
   "source": [
    "<h1> Evaluando modelos de Machine Learning </h1>"
   ]
  },
  {
   "cell_type": "code",
   "execution_count": 1,
   "metadata": {},
   "outputs": [],
   "source": [
    "import pandas as pd\n",
    "import numpy as np\n",
    "import matplotlib.pyplot as plt\n",
    "import seaborn as sns\n",
    "import plotly.graph_objects as go\n",
    "import pandas_profiling\n",
    "from sklearn.preprocessing import LabelEncoder\n",
    "%matplotlib inline"
   ]
  },
  {
   "cell_type": "code",
   "execution_count": 2,
   "metadata": {},
   "outputs": [
    {
     "name": "stderr",
     "output_type": "stream",
     "text": [
      "C:\\Users\\chech\\AppData\\Local\\Temp\\ipykernel_8372\\474200707.py:1: DtypeWarning: Columns (29,34,35,44) have mixed types. Specify dtype option on import or set low_memory=False.\n",
      "  df = pd.read_csv('C:/Users/chech/PC Febrero 2023/CoderHouse/Data Scients/proyectoCoder/finalProject/data/movDic.csv')\n"
     ]
    }
   ],
   "source": [
    "df = pd.read_csv('C:/Users/chech/PC Febrero 2023/CoderHouse/Data Scients/proyectoCoder/finalProject/data/movDic.csv')"
   ]
  },
  {
   "cell_type": "markdown",
   "metadata": {},
   "source": [
    "<h2> Feature Engineering </h2>"
   ]
  },
  {
   "cell_type": "code",
   "execution_count": 4,
   "metadata": {},
   "outputs": [],
   "source": [
    "# Reduccoón de dataset, eliminando las variables con mayor cantidad de valores nulos.\n",
    "df_1 = df[['ID. Grupo','Nombre Grupo', 'ID. Origen', 'Nombre Origen', 'ID. Canal', 'Nombre Canal', 'ID. Terminal', 'Nombre Terminal', 'ID. Transaccion','Nombre Transaccion',\n",
    "           'Error','Nombre Error', 'Valor','Fecha Transaccion', 'Codigo Entidad Orgien','Cooperativa Terminal','Serial Terminal', 'Tipo Cuenta 1',\n",
    "           'Cuenta 1','Tipo Documento','Documento']]\n",
    "\n",
    "# Data wrangling: Las transacciones de consulta, registrar valor 0 (cero) en la columna \"Valor\"\n",
    "df_1.loc[df_1['Nombre Transaccion'].str.contains('Consul'), 'Valor'] = 0"
   ]
  },
  {
   "cell_type": "code",
   "execution_count": 5,
   "metadata": {},
   "outputs": [
    {
     "name": "stderr",
     "output_type": "stream",
     "text": [
      "C:\\Users\\chech\\AppData\\Local\\Temp\\ipykernel_8372\\3190226987.py:25: SettingWithCopyWarning: \n",
      "A value is trying to be set on a copy of a slice from a DataFrame.\n",
      "Try using .loc[row_indexer,col_indexer] = value instead\n",
      "\n",
      "See the caveats in the documentation: https://pandas.pydata.org/pandas-docs/stable/user_guide/indexing.html#returning-a-view-versus-a-copy\n",
      "  df_1['NombreRango'] = df_1['Valor'].apply(rangos)\n"
     ]
    }
   ],
   "source": [
    "# Actualizar los valores de la columna \"Valor\" según la condición\n",
    "df_1.loc[df_1['Nombre Error'] != 'Exito', 'Valor'] = 0\n",
    "\n",
    "def rangos(valor):\n",
    "    if valor > 100000000:\n",
    "        return '+ 100 m'\n",
    "    elif valor > 50000000 and valor <= 100000000:\n",
    "        return '50 m-100 m'\n",
    "    elif valor > 20000000 and valor <= 50000000:\n",
    "        return '20 m-50 m'\n",
    "    elif valor > 5000000 and valor <= 20000000:\n",
    "        return '5 m-20 m'\n",
    "    elif valor > 1000000 and valor <= 5000000:\n",
    "        return '1 m-5 m'\n",
    "    elif valor > 200000 and valor <= 1000000:\n",
    "        return '200-1 m'\n",
    "    elif valor > 50000 and valor <= 200000:\n",
    "        return '50-200'\n",
    "    elif valor > 10000 and valor <= 50000:\n",
    "        return '10-50'\n",
    "    elif valor > 1 and valor <= 10000:\n",
    "        return '1-10'\n",
    "    else:\n",
    "        return 'Cero'\n",
    "df_1['NombreRango'] = df_1['Valor'].apply(rangos)"
   ]
  },
  {
   "cell_type": "code",
   "execution_count": 6,
   "metadata": {},
   "outputs": [
    {
     "name": "stderr",
     "output_type": "stream",
     "text": [
      "C:\\Users\\chech\\AppData\\Local\\Temp\\ipykernel_8372\\2455127376.py:5: SettingWithCopyWarning: \n",
      "A value is trying to be set on a copy of a slice from a DataFrame.\n",
      "Try using .loc[row_indexer,col_indexer] = value instead\n",
      "\n",
      "See the caveats in the documentation: https://pandas.pydata.org/pandas-docs/stable/user_guide/indexing.html#returning-a-view-versus-a-copy\n",
      "  df_2['Fecha Transaccion'] = pd.to_datetime(df_2['Fecha Transaccion'])\n",
      "C:\\Users\\chech\\AppData\\Local\\Temp\\ipykernel_8372\\2455127376.py:8: SettingWithCopyWarning: \n",
      "A value is trying to be set on a copy of a slice from a DataFrame.\n",
      "Try using .loc[row_indexer,col_indexer] = value instead\n",
      "\n",
      "See the caveats in the documentation: https://pandas.pydata.org/pandas-docs/stable/user_guide/indexing.html#returning-a-view-versus-a-copy\n",
      "  df_2['Fecha Transaccion'] = df_2['Fecha Transaccion'].dt.strftime('%d/%m/%Y')\n"
     ]
    }
   ],
   "source": [
    "df_2 = df_1[['ID. Grupo', 'ID. Origen', 'ID. Canal','Nombre Canal','ID. Terminal', 'ID. Transaccion','Nombre Transaccion','Error','Nombre Error','Valor','Fecha Transaccion', 'Codigo Entidad Orgien', 'Tipo Cuenta 1'\n",
    "             ,'Tipo Documento','Documento', 'NombreRango']]\n",
    "\n",
    "# Convertir la columna 'Fecha Transaccion' a tipo datetime\n",
    "df_2['Fecha Transaccion'] = pd.to_datetime(df_2['Fecha Transaccion'])\n",
    "\n",
    "# Aplicar el formato deseado a la columna 'Fecha Transaccion'\n",
    "df_2['Fecha Transaccion'] = df_2['Fecha Transaccion'].dt.strftime('%d/%m/%Y')"
   ]
  },
  {
   "cell_type": "code",
   "execution_count": 7,
   "metadata": {},
   "outputs": [],
   "source": [
    "# Eliminar las filas con valores no finitos en la columna \"Documento\"\n",
    "df_2 = df_2.dropna(subset=['Documento'])\n",
    "\n",
    "# Convertir los valores en la columna \"Documento\" de tipo float64 a int64\n",
    "df_2[\"Documento\"] = df_2[\"Documento\"].astype('int64')"
   ]
  },
  {
   "cell_type": "markdown",
   "metadata": {},
   "source": [
    "<p> Crear nueva columna para hacer una categoria binaria, indicando si la transacción tiene error o no."
   ]
  },
  {
   "cell_type": "code",
   "execution_count": 8,
   "metadata": {},
   "outputs": [],
   "source": [
    "# Función para asignar valores en función de la columna \"Error\"\n",
    "def asignar_exito(row):\n",
    "    if row[\"Error\"] == 0 or row[\"Error\"] == 900:\n",
    "        return 1\n",
    "    else:\n",
    "        return 0\n",
    "df_2[\"Exito1-0\"] = df_2.apply(asignar_exito, axis=1)"
   ]
  },
  {
   "cell_type": "code",
   "execution_count": 22,
   "metadata": {},
   "outputs": [],
   "source": [
    "df_3 = df_2[['ID. Grupo', 'ID. Origen', 'ID. Canal', 'ID. Terminal', 'ID. Transaccion', 'Valor', 'Documento', 'Exito1-0']]\n",
    "df_4 = df_3.copy()"
   ]
  },
  {
   "cell_type": "markdown",
   "metadata": {},
   "source": [
    "<h4> Implementación de Label Encoding,  </h4>\n",
    "<p>  El propósito principal del Label Encoding es permitir que los algoritmos de aprendizaje automático trabajen con datos categóricos de una manera que sea comprensible, El Label Encoding asigna un valor numérico único a cada categoría en una columna categórica. Cada categoría se mapea a un número, lo que permite representar esas categorías en forma numérica en los algoritmos."
   ]
  },
  {
   "cell_type": "code",
   "execution_count": 27,
   "metadata": {},
   "outputs": [],
   "source": [
    "# Creación de instancia de LabelEncoder\n",
    "label_encoder = LabelEncoder()\n",
    "\n",
    "df_4[\"ID. Grupo\"] = label_encoder.fit_transform(df_4[\"ID. Grupo\"])\n",
    "\n",
    "df_4[\"ID. Terminal\"] = label_encoder.fit_transform(df_4[\"ID. Terminal\"])\n",
    "\n",
    "df_4[\"ID. Transaccion\"] = label_encoder.fit_transform(df_4[\"ID. Transaccion\"])"
   ]
  },
  {
   "cell_type": "code",
   "execution_count": 49,
   "metadata": {},
   "outputs": [
    {
     "data": {
      "text/html": [
       "<div>\n",
       "<style scoped>\n",
       "    .dataframe tbody tr th:only-of-type {\n",
       "        vertical-align: middle;\n",
       "    }\n",
       "\n",
       "    .dataframe tbody tr th {\n",
       "        vertical-align: top;\n",
       "    }\n",
       "\n",
       "    .dataframe thead th {\n",
       "        text-align: right;\n",
       "    }\n",
       "</style>\n",
       "<table border=\"1\" class=\"dataframe\">\n",
       "  <thead>\n",
       "    <tr style=\"text-align: right;\">\n",
       "      <th></th>\n",
       "      <th>ID. Grupo</th>\n",
       "      <th>ID. Origen</th>\n",
       "      <th>ID. Canal</th>\n",
       "      <th>ID. Terminal</th>\n",
       "      <th>ID. Transaccion</th>\n",
       "      <th>Valor</th>\n",
       "      <th>Documento</th>\n",
       "      <th>Exito1-0</th>\n",
       "    </tr>\n",
       "  </thead>\n",
       "  <tbody>\n",
       "    <tr>\n",
       "      <th>983195</th>\n",
       "      <td>1</td>\n",
       "      <td>6</td>\n",
       "      <td>4</td>\n",
       "      <td>13</td>\n",
       "      <td>25</td>\n",
       "      <td>35000</td>\n",
       "      <td>1039625109</td>\n",
       "      <td>1</td>\n",
       "    </tr>\n",
       "    <tr>\n",
       "      <th>15445</th>\n",
       "      <td>0</td>\n",
       "      <td>3</td>\n",
       "      <td>1</td>\n",
       "      <td>3</td>\n",
       "      <td>3</td>\n",
       "      <td>400000</td>\n",
       "      <td>1112768187</td>\n",
       "      <td>1</td>\n",
       "    </tr>\n",
       "    <tr>\n",
       "      <th>449065</th>\n",
       "      <td>0</td>\n",
       "      <td>3</td>\n",
       "      <td>1</td>\n",
       "      <td>5</td>\n",
       "      <td>3</td>\n",
       "      <td>600000</td>\n",
       "      <td>10491837</td>\n",
       "      <td>1</td>\n",
       "    </tr>\n",
       "    <tr>\n",
       "      <th>186854</th>\n",
       "      <td>0</td>\n",
       "      <td>6</td>\n",
       "      <td>0</td>\n",
       "      <td>0</td>\n",
       "      <td>3</td>\n",
       "      <td>3000000</td>\n",
       "      <td>37370911</td>\n",
       "      <td>1</td>\n",
       "    </tr>\n",
       "    <tr>\n",
       "      <th>918780</th>\n",
       "      <td>0</td>\n",
       "      <td>3</td>\n",
       "      <td>1</td>\n",
       "      <td>2</td>\n",
       "      <td>3</td>\n",
       "      <td>40000</td>\n",
       "      <td>15682661</td>\n",
       "      <td>1</td>\n",
       "    </tr>\n",
       "    <tr>\n",
       "      <th>456727</th>\n",
       "      <td>0</td>\n",
       "      <td>1</td>\n",
       "      <td>2</td>\n",
       "      <td>7</td>\n",
       "      <td>0</td>\n",
       "      <td>472199</td>\n",
       "      <td>37336364</td>\n",
       "      <td>1</td>\n",
       "    </tr>\n",
       "  </tbody>\n",
       "</table>\n",
       "</div>"
      ],
      "text/plain": [
       "        ID. Grupo  ID. Origen  ID. Canal  ID. Terminal  ID. Transaccion  \\\n",
       "983195          1           6          4            13               25   \n",
       "15445           0           3          1             3                3   \n",
       "449065          0           3          1             5                3   \n",
       "186854          0           6          0             0                3   \n",
       "918780          0           3          1             2                3   \n",
       "456727          0           1          2             7                0   \n",
       "\n",
       "          Valor   Documento  Exito1-0  \n",
       "983195    35000  1039625109         1  \n",
       "15445    400000  1112768187         1  \n",
       "449065   600000    10491837         1  \n",
       "186854  3000000    37370911         1  \n",
       "918780    40000    15682661         1  \n",
       "456727   472199    37336364         1  "
      ]
     },
     "execution_count": 49,
     "metadata": {},
     "output_type": "execute_result"
    }
   ],
   "source": [
    "df_4.sample(6)"
   ]
  },
  {
   "cell_type": "markdown",
   "metadata": {},
   "source": [
    "<h1> Regresión Logística para Predicción de Transacciones Exitosas o con Error </h1>\n",
    "<p> La Regresión Logística se aplica en problemas de clasificación, como el que nos vamos a realizar: predecir si futuras transacciones serán exitosas o resultarán en un error. \n",
    "<h3> Aplicación en Predicción de Transacciones: </h3>\n",
    "<p> En el contexto de la predicción de transacciones exitosas o con error, la Regresión Logística puede aprovechar diversas características relacionadas con cada transacción, como el canal de origen, el tipo de cuenta, el monto involucrado y otros atributos relevantes. Estos atributos se utilizan como variables predictoras para estimar la probabilidad de que una transacción específica termine en error.\n",
    "<h2> EDA: </h2>"
   ]
  },
  {
   "cell_type": "code",
   "execution_count": 13,
   "metadata": {},
   "outputs": [
    {
     "data": {
      "image/png": "[encoded data removed]",
      "text/plain": [
       "<Figure size 600x600 with 1 Axes>"
      ]
     },
     "metadata": {},
     "output_type": "display_data"
    }
   ],
   "source": [
    "suma_valores = df_2[\"Exito1-0\"].value_counts()\n",
    "\n",
    "# Crear la gráfica de torta\n",
    "plt.figure(figsize=(6, 6))\n",
    "plt.pie(suma_valores, labels=[\"Exito - 1\", \"Error - 0\"], autopct='%1.1f%%', colors=['silver', 'red'], startangle=140)\n",
    "\n",
    "plt.title(\"Estado de las transacciones \")\n",
    "\n",
    "plt.show()"
   ]
  }
 ],
 "metadata": {
  "kernelspec": {
   "display_name": "proyectoCoder",
   "language": "python",
   "name": "python3"
  },
  "language_info": {
   "codemirror_mode": {
    "name": "ipython",
    "version": 3
   },
   "file_extension": ".py",
   "mimetype": "text/x-python",
   "name": "python",
   "nbconvert_exporter": "python",
   "pygments_lexer": "ipython3",
   "version": "3.11.4"
  },
  "orig_nbformat": 4
 },
 "nbformat": 4,
 "nbformat_minor": 2
}
